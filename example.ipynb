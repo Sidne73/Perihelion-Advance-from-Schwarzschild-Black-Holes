{
 "cells": [
  {
   "cell_type": "code",
   "execution_count": null,
   "metadata": {},
   "outputs": [],
   "source": [
    "# This project was made to calculate the perihelion advance of orbits\n",
    "\n",
    "# Importing the functions:\n",
    "\n",
    "from functions import schwarzschild_plot_orbit, perihelion"
   ]
  },
  {
   "cell_type": "code",
   "execution_count": null,
   "metadata": {},
   "outputs": [],
   "source": [
    "# The orbit is obtained through a fourth order runge kutta method implemented manually\n",
    "\n",
    "# The code is set to find the solution of the following equation\n",
    "\n",
    "# (du/dphi)^2 = E2/L**2-(1-2*u)*(u**2+1/L**2)\n",
    "\n",
    "# Where phi is the orbit angle and u=1/r\n",
    "\n",
    "# This is equation 11.28 from A First Course in General Relativity by Schutz\n",
    "\n",
    "# As for initial condition, we find the return points and start at the closest one (the perihelion)\n",
    "\n",
    "# Simulation ends at the other return point, the aphelion"
   ]
  },
  {
   "cell_type": "code",
   "execution_count": null,
   "metadata": {},
   "outputs": [],
   "source": [
    "# To generate a plot, it is needed to specify two parameters:\n",
    "\n",
    "#----Parameters----#\n",
    "L = 50          # Angular momentum (in central body mass units)\n",
    "p = 0.5         # A quantity proportional to the orbits' eccentricity (0<p<1 for elliptic orbits) \n",
    "\n",
    "# Because we are solving directly r(phi), it is recommended to use a big value for p\n",
    "\n",
    "schwarzschild_plot_orbit(L,p)"
   ]
  },
  {
   "cell_type": "code",
   "execution_count": null,
   "metadata": {},
   "outputs": [],
   "source": [
    "# We can calculate the perihelion advance for that orbit using the function perihelion\n",
    "\n",
    "# This function calculates the perihelion advance per orbit in radians\n",
    "\n",
    "a = perihelion(L,p)\n",
    "\n",
    "print(f\"Perihelion Precession: {a} radians/orbit\")"
   ]
  }
 ],
 "metadata": {
  "kernelspec": {
   "display_name": "Python 3",
   "language": "python",
   "name": "python3"
  },
  "language_info": {
   "codemirror_mode": {
    "name": "ipython",
    "version": 3
   },
   "file_extension": ".py",
   "mimetype": "text/x-python",
   "name": "python",
   "nbconvert_exporter": "python",
   "pygments_lexer": "ipython3",
   "version": "3.11.3"
  }
 },
 "nbformat": 4,
 "nbformat_minor": 2
}
